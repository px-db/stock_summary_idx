{
 "cells": [
  {
   "cell_type": "code",
   "execution_count": 9,
   "metadata": {},
   "outputs": [],
   "source": [
    "import pandas as pd\n",
    "import sqlite3\n",
    "import os"
   ]
  },
  {
   "cell_type": "code",
   "execution_count": 12,
   "metadata": {},
   "outputs": [],
   "source": [
    "col=[c[1] for c in sqlite3\n",
    "     .connect('stock_summary_2019.sqlite')\n",
    "     .cursor()\n",
    "     .execute('PRAGMA table_info (stock_summary)')\n",
    "     .fetchall()]"
   ]
  },
  {
   "cell_type": "code",
   "execution_count": 16,
   "metadata": {},
   "outputs": [
    {
     "name": "stdout",
     "output_type": "stream",
     "text": [
      "Stock Summary-20240223.xlsx\n",
      "Stock Summary-20240226.xlsx\n",
      "Stock Summary-20240227.xlsx\n",
      "Stock Summary-20240228.xlsx\n",
      "Stock Summary-20240229.xlsx\n",
      "Stock Summary-20240301.xlsx\n",
      "Stock Summary-20240304.xlsx\n",
      "Stock Summary-20240305.xlsx\n",
      "Stock Summary-20240306.xlsx\n",
      "Stock Summary-20240307.xlsx\n",
      "Stock Summary-20240308.xlsx\n",
      "Stock Summary-20240313.xlsx\n",
      "Stock Summary-20240314.xlsx\n",
      "Stock Summary-20240315.xlsx\n",
      "Stock Summary-20240318.xlsx\n",
      "Stock Summary-20240319.xlsx\n",
      "Stock Summary-20240320.xlsx\n",
      "Stock Summary-20240321.xlsx\n",
      "Stock Summary-20240322.xlsx\n",
      "Stock Summary-20240325.xlsx\n",
      "Stock Summary-20240326.xlsx\n",
      "Stock Summary-20240327.xlsx\n",
      "Stock Summary-20240328.xlsx\n",
      "Stock Summary-20240401.xlsx\n",
      "Stock Summary-20240402.xlsx\n"
     ]
    }
   ],
   "source": [
    "year = '2024'\n",
    "for file_excel in os.listdir('download/') :\n",
    "  pd.read_excel(\n",
    "                f'download/{file_excel}',\n",
    "                usecols=col,\n",
    "                ).to_sql('stock_summary',\n",
    "                          sqlite3.connect(f'stock_summary_{year}.sqlite'),\n",
    "                          if_exists='append',\n",
    "                          index=False,\n",
    "                          )\n",
    "  print(file_excel)"
   ]
  }
 ],
 "metadata": {
  "kernelspec": {
   "display_name": "base",
   "language": "python",
   "name": "python3"
  },
  "language_info": {
   "codemirror_mode": {
    "name": "ipython",
    "version": 3
   },
   "file_extension": ".py",
   "mimetype": "text/x-python",
   "name": "python",
   "nbconvert_exporter": "python",
   "pygments_lexer": "ipython3",
   "version": "3.9.18"
  }
 },
 "nbformat": 4,
 "nbformat_minor": 2
}
