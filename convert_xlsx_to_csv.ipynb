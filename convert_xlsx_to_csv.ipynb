{
 "cells": [
  {
   "cell_type": "code",
   "execution_count": 1,
   "metadata": {},
   "outputs": [],
   "source": [
    "import pandas as pd\n",
    "import os"
   ]
  },
  {
   "cell_type": "code",
   "execution_count": 6,
   "metadata": {},
   "outputs": [
    {
     "name": "stdout",
     "output_type": "stream",
     "text": [
      "20240223\n"
     ]
    }
   ],
   "source": [
    "print('Stock Summary-20240223.xlsx'[14:22])"
   ]
  },
  {
   "cell_type": "code",
   "execution_count": 7,
   "metadata": {},
   "outputs": [
    {
     "name": "stdout",
     "output_type": "stream",
     "text": [
      "Stock Summary-20240318.xlsx sukses\n",
      "Stock Summary-20240223.xlsx sukses\n",
      "Stock Summary-20240226.xlsx sukses\n",
      "Stock Summary-20240227.xlsx sukses\n",
      "Stock Summary-20240228.xlsx sukses\n",
      "Stock Summary-20240229.xlsx sukses\n",
      "Stock Summary-20240301.xlsx sukses\n",
      "Stock Summary-20240304.xlsx sukses\n",
      "Stock Summary-20240305.xlsx sukses\n",
      "Stock Summary-20240306.xlsx sukses\n",
      "Stock Summary-20240307.xlsx sukses\n",
      "Stock Summary-20240308.xlsx sukses\n",
      "Stock Summary-20240313.xlsx sukses\n",
      "Stock Summary-20240314.xlsx sukses\n",
      "Stock Summary-20240315.xlsx sukses\n",
      "Stock Summary-20240319.xlsx sukses\n",
      "Stock Summary-20240320.xlsx sukses\n",
      "Stock Summary-20240321.xlsx sukses\n",
      "Stock Summary-20240322.xlsx sukses\n",
      "Stock Summary-20240325.xlsx sukses\n",
      "Stock Summary-20240326.xlsx sukses\n",
      "Stock Summary-20240327.xlsx sukses\n",
      "Stock Summary-20240328.xlsx sukses\n",
      "Stock Summary-20240401.xlsx sukses\n",
      "Stock Summary-20240402.xlsx sukses\n",
      "Stock Summary-20240403.xlsx sukses\n",
      "Stock Summary-20240404.xlsx sukses\n",
      "Stock Summary-20240405.xlsx sukses\n",
      "Stock Summary-20240416.xlsx sukses\n",
      "Stock Summary-20240417.xlsx sukses\n"
     ]
    }
   ],
   "source": [
    "year = '2024'\n",
    "for f in os.listdir('download/') :\n",
    "  pd.read_excel(\n",
    "                f'download/{f}',\n",
    "                ).to_csv(f'{year}/stock_summary_{f[14:22]}.csv',\n",
    "                          index=False,\n",
    "                          )\n",
    "  print(f+' sukses')\n",
    "\n",
    "  # FILE TERAKHIR : Stock Summary-20240417.xlsx"
   ]
  }
 ],
 "metadata": {
  "kernelspec": {
   "display_name": "base",
   "language": "python",
   "name": "python3"
  },
  "language_info": {
   "codemirror_mode": {
    "name": "ipython",
    "version": 3
   },
   "file_extension": ".py",
   "mimetype": "text/x-python",
   "name": "python",
   "nbconvert_exporter": "python",
   "pygments_lexer": "ipython3",
   "version": "3.9.18"
  }
 },
 "nbformat": 4,
 "nbformat_minor": 2
}
